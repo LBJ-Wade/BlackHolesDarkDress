{
 "cells": [
  {
   "cell_type": "markdown",
   "metadata": {},
   "source": [
    "### Distribution function for the DM mini-halo\n",
    "\n",
    "The idea is the construct an equilibrium distribution function for a DM mini-halo (around a PBH) with a density profile $\\rho \\sim r^{-3/2}$ within the truncation radius $r_\\mathrm{tr}$. "
   ]
  },
  {
   "cell_type": "code",
   "execution_count": null,
   "metadata": {},
   "outputs": [],
   "source": [
    "import numpy as np\n",
    "import sympy as sp\n",
    "\n",
    "from tqdm import tqdm\n",
    "from scipy.interpolate import interp1d\n",
    "from scipy.interpolate import UnivariateSpline\n",
    "from scipy.integrate import quad\n",
    "from scipy.special import betainc, beta, btdtr,hyp2f1\n",
    "\n",
    "from sympy.assumptions import assuming, Q\n",
    "\n",
    "from __future__ import division\n",
    "\n",
    "from matplotlib import pylab as pl\n",
    "import matplotlib as mpl\n",
    "mpl.rc('font', **{'size':18})\n",
    "\n",
    "mpl.rcParams['xtick.major.size'] = 7\n",
    "mpl.rcParams['xtick.major.width'] = 1\n",
    "mpl.rcParams['xtick.minor.size'] = 3\n",
    "mpl.rcParams['xtick.minor.width'] = 1\n",
    "mpl.rcParams['ytick.major.size'] = 7\n",
    "mpl.rcParams['ytick.major.width'] = 1\n",
    "mpl.rcParams['ytick.minor.size'] = 3\n",
    "mpl.rcParams['ytick.minor.width'] = 1\n",
    "\n",
    "def beta_incomplete(a,b,x):\n",
    "    return (x**a/a)*hyp2f1(a,1-b,a+1,x)"
   ]
  },
  {
   "cell_type": "markdown",
   "metadata": {},
   "source": [
    "**Parameters:**"
   ]
  },
  {
   "cell_type": "code",
   "execution_count": null,
   "metadata": {},
   "outputs": [],
   "source": [
    "MPBH = 30\n",
    "\n",
    "avals, rvals, zvals = np.loadtxt(\"distributions/Decoupling_M=\" + str(int(MPBH)) + \"Msun.txt\", unpack=True)\n",
    "rtr_interp = interp1d(avals, rvals)\n",
    "\n",
    "#Specify the value of a!\n",
    "a = 0.002\n",
    "rtr = rtr_interp(a)\n",
    "print a/rtr\n",
    "print \"Truncation radius [pc]:\", rtr\n",
    "#print rtr_interp(0.0896960135445)\n",
    "\n",
    "r_eq = 0.0063*(MPBH**(1.0/3.0)) #Truncation radius in pc at equality\n",
    "G = 4.302e-3 #Units of (pc/solar mass) (km/s)^2\n",
    "A = 3.0*MPBH/(8*np.pi*(rtr*r_eq)**1.5)\n",
    "\n",
    "print (rtr/r_eq)**(-3/2.0)\n",
    "\n",
    "print MPBH*(rtr/r_eq)**(3/2.0)"
   ]
  },
  {
   "cell_type": "markdown",
   "metadata": {},
   "source": [
    "**DM Density profile:**"
   ]
  },
  {
   "cell_type": "code",
   "execution_count": null,
   "metadata": {},
   "outputs": [],
   "source": [
    "x_a = 1.0\n",
    "rho0 = 1.0\n",
    "\n",
    "def rho_inner(x):\n",
    "    return 1.0/((x**(3/2))*(1 + x)**(6-3/2))    \n",
    "\n",
    "alpha = 1.0*rho_inner(x_a)\n",
    "#beta = (1.0/alpha)*1.0*3*(1+4*x_a)/(2*x_a**(5/2)*(1+x_a)**(11/2))\n",
    "beta = 3*(1+4*x_a)/(2.0*x_a*(1+x_a))\n",
    "\n",
    "def rho_outer(x):\n",
    "    return alpha*sp.exp(-1.0*beta*(x-x_a))\n",
    "\n",
    "def rho(x):\n",
    "    if (x < x_a):\n",
    "        return rho_inner(x)\n",
    "    if (x >= x_a):\n",
    "        return rho_outer(x)\n",
    "\n",
    "def P(x):\n",
    "    return 4*np.pi*1.0*x**(1/2)/((1 + x)**(4-3/2))\n",
    "\n",
    "def rho_true(x):\n",
    "    if (x > 1.0):\n",
    "        return 0.0\n",
    "    return A*x**(-1.5)\n",
    "\n",
    "print quad(lambda r: 4*np.pi*rho_true(r/rtr)*r**2, 0, rtr)[0]\n",
    "\n",
    "rho_vec = np.vectorize(rho)\n"
   ]
  },
  {
   "cell_type": "markdown",
   "metadata": {},
   "source": [
    "**Plot the density...**"
   ]
  },
  {
   "cell_type": "code",
   "execution_count": null,
   "metadata": {},
   "outputs": [],
   "source": [
    "#Check the density\n",
    "pl.figure(figsize=(7,5))\n",
    "xlist = np.logspace(np.log10(1e-5), np.log10(10),1000)\n",
    "pl.loglog(xlist, np.vectorize(rho_true)(xlist), label='UCMH (Eq. 13)', lw=1.5, color='C3')\n",
    "pl.loglog([1.0, 1.0], [1e-3, rho_true(1.0)],lw=1.5, color='C3')\n",
    "pl.loglog(xlist, rho0*np.vectorize(rho)(xlist),linestyle='--',label='gNFW', lw=1.5, color='C9')\n",
    "#pl.loglog(xlist, rho_inner(xlist))\n",
    "pl.xlabel(r\"$x = r/R_\\mathrm{tr}$\")\n",
    "pl.ylabel(r\"$\\rho_\\mathrm{DM}$ [$M_\\odot$ pc$^{-3}$]\")\n",
    "pl.ylim(1e5, 1e15)\n",
    "pl.xlim(1e-4, 10)\n",
    "pl.axvline(1.0, linestyle=':', color='k')\n",
    "#pl.axvline(x_b, linestyle=':', color='k')\n",
    "pl.legend(loc=\"best\",fontsize=16.0)\n",
    "#pl.xticks([1e-3, 1e-2, 1e-1, 1, 10], [r'$10^{-3}$',r'$10^{-2}$',r'$10^{-1}$',r'$1$',r'$10$'])\n",
    "\n",
    "pl.tight_layout()\n",
    "pl.savefig(\"../plots/Halo_density.pdf\",bbox_inches=\"tight\")\n",
    "pl.show()\n",
    "\n",
    "#Check the density\n",
    "pl.figure()\n",
    "xlist = np.logspace(np.log10(1e-3), np.log10(10),1000)\n",
    "pl.loglog(xlist, np.vectorize(rho)(xlist)/np.vectorize(rho_true)(xlist),label='gNFW')\n",
    "#pl.loglog(xlist, rho_inner(xlist))\n",
    "pl.xlabel(r\"$x = r/r_\\mathrm{tr}$\")\n",
    "pl.ylabel(r\"$\\rho_\\mathrm{DM}$ [$M_\\odot$ pc$^{-3}$]\")\n",
    "#pl.ylim(0, 1e6)\n",
    "#pl.xlim(0.5, 5)\n",
    "pl.axvline(1.0, linestyle=':', color='k')\n",
    "#pl.axvline(x_b, linestyle=':', color='k')\n",
    "#pl.legend(loc=\"best\",fontsize=10.0)\n",
    "#pl.tight_layout()\n",
    "#pl.savefig(\"../../Halo_density.pdf\",bbox_inches=\"tight\" )\n",
    "pl.show()\n",
    "\n",
    "print rho0*rho(1e-5)/rho_true(1e-5)"
   ]
  },
  {
   "cell_type": "code",
   "execution_count": null,
   "metadata": {},
   "outputs": [],
   "source": [
    "#Check the density\n",
    "pl.figure()\n",
    "xlist = np.logspace(np.log10(1e-3), np.log10(3),1000)\n",
    "pl.semilogy(xlist, 4*np.pi*np.vectorize(rho)(xlist)*xlist**2)\n",
    "pl.semilogy(xlist, 4*np.pi*np.vectorize(rho_true)(xlist)*xlist**2)\n",
    "pl.xlabel(r\"$x = r/r_\\mathrm{tr}$\")\n",
    "pl.ylabel(r\"$\\rho_\\mathrm{DM}$ [$M_\\odot$ pc$^{-3}$]\")\n",
    "pl.ylim(1e5, 1e8)\n",
    "pl.show()"
   ]
  },
  {
   "cell_type": "markdown",
   "metadata": {},
   "source": [
    "**Calculate masses and potentials:**"
   ]
  },
  {
   "cell_type": "code",
   "execution_count": null,
   "metadata": {},
   "outputs": [],
   "source": [
    "x1,x2,x3,y = sp.symbols('x1 x2 x3 y')\n",
    "rho0 = 1.0\n",
    "\n",
    "def Menc_inner(x):\n",
    "    return rtr**3*4*np.pi*1.0*2*(x**(3/2))*(35 + 28*x + 8*x**2)/(105.0*(1+x)**(7/2))\n",
    "\n",
    "Mouter_fun = Menc_inner(x_a) + rtr**3*4*np.pi*sp.integrate(rho_outer(x1)*x1**2, (x1, x_a, x2))\n",
    "#print Menc_inner(0.5)\n",
    "#print Mouter_fun.subs(x1,1.5)\n",
    "rho0 = ((rtr/r_eq)**1.5)*MPBH/Mouter_fun.subs(x2, 100)\n",
    "print rho0\n",
    "\n",
    "def Menc(x):\n",
    "    if (x < x_a):\n",
    "        return MPBH + rho0*Menc_inner(x)\n",
    "    elif (x >= x_a):\n",
    "        return MPBH + rho0*Mouter_fun.subs(x2, x)    \n",
    "\n",
    "def psi_outer(y):\n",
    "    return (MPBH + rho0*Menc_inner(x_a))*G/(rtr*y) - (2**(-9/2))*4*np.pi*rtr**3*(G/rtr)*rho0*(np.exp((x_a - y)*beta)*alpha*(2 -2*np.exp(y*beta) + y*beta)/(y*beta**3))\n",
    "    \n",
    "def psi_inner1(y):\n",
    "    num = 48-70*np.sqrt(y*(1+y)) - 112*np.sqrt(y**3*(1+y))+ \\\n",
    "            -48*np.sqrt(y**5*(1+y)) + 48*y*(3+y*(3+y))\n",
    "    return (rtr**3*4*np.pi*rho0)*(G/rtr)*2*num/(105.0*(1+y)**3) + MPBH*G/(rtr*y)\n",
    "\n",
    "\n",
    "\n",
    "def psi_inner(y):\n",
    "    return psi_inner1(y) - psi_inner1(x_a) + psi_outer(x_a)\n",
    "\n",
    "def psi(y):\n",
    "    if (y < x_a):\n",
    "        return psi_inner(y)\n",
    "    elif (y >= x_a):\n",
    "        return psi_outer(y)\n",
    "    \n",
    "psi_tr = float(psi(1.0))\n",
    "psi_min = float(psi(100))\n",
    "psi_max = float(psi(1e-6))\n",
    "\n"
   ]
  },
  {
   "cell_type": "markdown",
   "metadata": {},
   "source": [
    "**Plot the potential and mass enclosed:**"
   ]
  },
  {
   "cell_type": "code",
   "execution_count": null,
   "metadata": {},
   "outputs": [],
   "source": [
    "#Check the potential\n",
    "print \"Potential at x = 100:\", psi_min\n",
    "#print \"Potential at x = 1.1:\", psi_b\n",
    "print \"Potential at x = 1:\", psi_tr\n",
    "print \"Potential at x = 1e-5:\", psi_max\n",
    "print \" \"\n",
    "print \"Mass enclosed at x = 1:\", Menc(1.0)-30\n",
    "print \"Mass enclosed at x = 1.5:\", Menc(1.5)-30\n",
    "print \"Mass enclosed at x = 2:\", Menc(2)-30\n",
    "print \"Mass enclosed at x = 5:\", Menc(5)-30\n",
    "print \"Mass enclosed between at x = 5 and x = 8:\", Menc(8)-Menc(5)\n",
    "print \" \"\n",
    "print \"Fraction of particles inside x = 1e-2:\", (Menc(1e-2)-30)/(Menc(100)-30)\n",
    "\n",
    "pl.figure()\n",
    "xlist = np.linspace(1e-3, 5, 100)\n",
    "pl.loglog(xlist, np.vectorize(psi)(xlist))\n",
    "pl.xlabel(r\"$x = r/r_\\mathrm{tr}$\")\n",
    "pl.ylabel(r\"$\\psi$ [$(\\mathrm{km}/\\mathrm{s})^2$]\")\n",
    "#pl.axvline(x_a, linestyle=':', color='k')\n",
    "pl.axvline(1.0, linestyle=':', color='k')\n",
    "pl.xlim(0.1, 2)\n",
    "pl.show()\n",
    "\n",
    "pl.figure()\n",
    "xlist = np.linspace(0.0, 5, 100)\n",
    "pl.plot(xlist, np.vectorize(Menc)(xlist))\n",
    "pl.xlabel(r\"$x = r/r_\\mathrm{tr}$\")\n",
    "pl.ylabel(r\"$M_\\mathrm{enc} [M_\\odot]$\")\n",
    "pl.axvline(1.0, linestyle=':', color='k')\n",
    "#pl.axvline(x_b, linestyle=':', color='k')\n",
    "pl.show()"
   ]
  },
  {
   "cell_type": "markdown",
   "metadata": {},
   "source": [
    "### Calculating moment of inertia:"
   ]
  },
  {
   "cell_type": "code",
   "execution_count": null,
   "metadata": {},
   "outputs": [],
   "source": [
    "I = 4*np.pi*rho0*rtr**5*quad(lambda x: rho(x)*x**4, 0, 5)[0]\n",
    "print I\n",
    "\n",
    "#print rtr, r0\n",
    "\n",
    "#r0 = 0.5*((1+0.9)*a)\n",
    "#L0 = MPBH*r0**2\n",
    "#L1 = ((MPBH+3.1)*r0**2 + I)\n",
    "\n",
    "#ratio = ((3.1)*r0**2 + I)\n",
    "\n",
    "#print L0, L1, (ratio)\n",
    "\n",
    "#e = 0.9\n",
    "#j = np.sqrt(1-e**2)\n",
    "#Lsq = 0.5*G*(Menc(10)**3)*0.063*j**2\n",
    "#print Lsq**0.5"
   ]
  },
  {
   "cell_type": "markdown",
   "metadata": {},
   "source": [
    "#### Calculating the binding energy"
   ]
  },
  {
   "cell_type": "code",
   "execution_count": null,
   "metadata": {},
   "outputs": [],
   "source": [
    "def U_integ(r):\n",
    "    return Menc(r/rtr)*4.*np.pi*r**2*rho0*rho(r/rtr)/r\n",
    "\n",
    "def U_integ_new(r):\n",
    "    if (r < rtr):\n",
    "        M1 = MPBH*(1 + (r/r_eq)**1.5)\n",
    "    else:\n",
    "        M1 = MPBH*(1 + (rtr/r_eq)**1.5)\n",
    "    #print r/rtr, rho_true(r/rtr)\n",
    "    return M1*4.*np.pi*r**2*rho_true(r/rtr)/r\n",
    "\n",
    "\n",
    "print \"Old:\", U_integ(1e-1*rtr)\n",
    "print \"New:\", U_integ_new(1e-1*rtr)\n",
    "\n",
    "\n",
    "#print 4*np.pi*rho0*quad(lambda r: r**2*rho(r/rtr), 0, 5*rtr)[0]\n",
    "\n",
    "U_bind = -G*quad(U_integ, 0, 5*rtr)[0]\n",
    "\n",
    "#U_bind = -G*quad(U_integ, 1e-5, 10*rtr)[0]\n",
    "\n",
    "print \"Binding energy of the halo:\", U_bind\n",
    "\n",
    "#Binding energy of the PBH+halo pair\n",
    "\n",
    "a_final = 0.0078196\n",
    "\n",
    "U_orb_before = -G*(Menc(10)**2)/(2.0*a)\n",
    "U_orb_after = -G*(MPBH**2)/(2.0*a_final)\n",
    "\n",
    "print \"Orbital energy of the PBH+halo pair (a = \" + str(a) + \"):\", U_orb_before\n",
    "\n",
    "print \"Orbital energy of the bare PBH pair (a = \" + str(a_final) + \"):\", U_orb_after\n",
    "\n",
    "print \" \"\n",
    "print \"Total energy before:\", U_orb_before + 2.0*U_bind\n",
    "print \"Total energy after:\", U_orb_after\n",
    "\n",
    "print \"  \"\n",
    "print \"Predicted final semi-major axis:\", -G*MPBH**2*0.5/(U_orb_before + 2.0*U_bind)\n",
    "\n"
   ]
  },
  {
   "cell_type": "code",
   "execution_count": null,
   "metadata": {},
   "outputs": [],
   "source": []
  },
  {
   "cell_type": "code",
   "execution_count": null,
   "metadata": {},
   "outputs": [],
   "source": [
    "rmin_list = np.logspace(-9, 1,50)\n",
    "print 0.5*rmin_list\n",
    "print 2*rtr\n",
    "Ulist = np.asarray([-G*quad(U_integ, 0.5*rmin, 5*rtr)[0] for rmin in rmin_list])\n",
    "Uinterp = interp1d(rmin_list, Ulist)"
   ]
  },
  {
   "cell_type": "code",
   "execution_count": null,
   "metadata": {},
   "outputs": [],
   "source": [
    "Menc_list = np.vectorize(Menc)(0.5*rmin_list/rtr)\n",
    "#print Menc_list\n",
    "\n",
    "a_f_list = -G*Menc_list**2*0.5/(U_orb_before + 2.0*Ulist)\n",
    "\n",
    "pl.figure()\n",
    "pl.semilogx(rmin_list, Ulist)\n",
    "pl.xlabel(r\"$r_\\mathrm{min}$ [pc]\")\n",
    "pl.ylabel(r\"Binding energy down to $r_\\mathrm{min}$\")\n",
    "pl.show()\n",
    "\n",
    "pl.figure()\n",
    "pl.semilogx(rmin_list, a_f_list)\n",
    "pl.xlabel(r\"$r_\\mathrm{min}$ [pc]\")\n",
    "pl.ylabel(r\"Expected final $a$ [pc]\")\n",
    "pl.show()\n",
    "\n",
    "jlist = np.logspace(-3, 0,200)\n",
    "rmin_vals = a*(1-np.sqrt(1-jlist**2))\n",
    "Menc_vals = np.vectorize(Menc)(0.5*rmin_vals/rtr)\n",
    "a_f_vals = -G*Menc_vals**2*0.5/(U_orb_before + 2.0*Uinterp(rmin_vals))\n",
    "\n",
    "#print -G*MPBH**2*0.5/(U_orb_before + 2.0*Uinterp((1-0.95)*(0.063)))\n",
    "\n",
    "pl.savetxt(\"testj_M\" + str(int(MPBH))+ \"_a\" + str(a) + \".txt\", zip(jlist, a_f_vals))\n",
    "\n",
    "pl.figure()\n",
    "pl.loglog(jlist, a_f_vals)\n",
    "pl.xlabel(r\"$j_i$\")\n",
    "pl.ylabel(r\"Expected final $a$ [pc]\")\n",
    "pl.show()"
   ]
  },
  {
   "cell_type": "code",
   "execution_count": null,
   "metadata": {},
   "outputs": [],
   "source": [
    "def calc_af(ai):\n",
    "    global rtr\n",
    "    rtr = rtr_interp(ai)\n",
    "    U_orb_before = -G*(Menc(10)**2)/(2.0*ai)\n",
    "    Ubind = -G*quad(U_integ, 1e-8, 5.0*rtr, epsrel=1e-3)[0]\n",
    "    return -G*MPBH**2*0.5/(U_orb_before + 2.0*Ubind)\n",
    "\n",
    "def calc_af_true(ai):\n",
    "    global rtr\n",
    "    \n",
    "    rtr = rtr_interp(ai)\n",
    "    #print rtr\n",
    "\n",
    "    M1 = MPBH*(1 + (rtr/r_eq)**1.5)\n",
    "    U_orb_before = -G*(M1**2)/(2.0*ai)\n",
    "    \n",
    "    Ubind = -G*quad(U_integ_new, 1e-8, 1.0*rtr, epsrel=1e-5)[0]\n",
    "    return -G*MPBH**2*0.5/(U_orb_before + 2.0*Ubind)\n",
    "\n",
    "print -G*quad(U_integ, 0, 10.0*rtr, epsrel=1e-3)[0]\n",
    "print -G*quad(U_integ_new, 0, 1.0*rtr, epsrel=1e-3)[0]\n",
    "\n",
    "rvals = np.logspace(-6, 0)\n",
    "pl.figure()\n",
    "pl.loglog(rvals, np.vectorize(U_integ)(rvals), label=\"gNFW\")\n",
    "pl.loglog(rvals, np.vectorize(U_integ_new)(rvals), label=\"UCMH\")\n",
    "pl.legend()\n",
    "pl.ylim(1e-20, 1e20)\n",
    "pl.show()\n"
   ]
  },
  {
   "cell_type": "code",
   "execution_count": null,
   "metadata": {},
   "outputs": [],
   "source": [
    "print calc_af(0.01)\n",
    "print calc_af_true(0.01)"
   ]
  },
  {
   "cell_type": "code",
   "execution_count": null,
   "metadata": {},
   "outputs": [],
   "source": [
    "ai_list = np.logspace(-5, -1)\n",
    "af_list = 0.0*ai_list\n",
    "af_true_list = 0.0*ai_list\n",
    "\n",
    "for i in tqdm(range(len(ai_list))):\n",
    "    af_list[i] = calc_af(ai_list[i]) \n",
    "    af_true_list[i] = calc_af_true(ai_list[i])\n",
    "\n",
    "    \n"
   ]
  },
  {
   "cell_type": "code",
   "execution_count": null,
   "metadata": {},
   "outputs": [],
   "source": [
    "#ai_of_af = UnivariateSpline(af_list,ai_list,k=1,s=0)\n",
    "\n",
    "\n",
    "pl.figure()\n",
    "pl.loglog(ai_list, af_list, label='NFW')\n",
    "pl.loglog(ai_list, af_true_list, label='UCMH')\n",
    "#pl.loglog(ai_of_af(af_list), af_list, '+')\n",
    "pl.loglog([1e-5, 1e-1], [1e-5, 1e-1], color='k', linestyle='--')\n",
    "pl.xlabel(r'$a_i$')\n",
    "pl.ylabel(r'$a_f$')\n",
    "pl.title(r'$M_\\mathrm{PBH} = ' + str(MPBH)+'\\,M_\\odot$', fontsize=16)\n",
    "pl.legend(loc='best')\n",
    "pl.show()\n",
    "\n",
    "pl.figure()\n",
    "pl.loglog(af_list, ai_list)\n",
    "#pl.loglog(ai_of_af(af_list), af_list, '+')\n",
    "pl.loglog([1e-5, 1e-1], [1e-5, 1e-1], color='k', linestyle='--')\n",
    "pl.xlabel(r'$a_f$')\n",
    "pl.ylabel(r'$a_i$')\n",
    "pl.title(r'$M_\\mathrm{PBH} = ' + str(MPBH)+'\\,M_\\odot$', fontsize=16)\n",
    "\n",
    "pl.show()\n"
   ]
  },
  {
   "cell_type": "code",
   "execution_count": null,
   "metadata": {},
   "outputs": [],
   "source": [
    "af_0 = 1.0*calc_af_true(0.01)\n",
    "print af_0\n",
    "\n",
    "def M_halo(a, M_PBH=30.0):\n",
    "    return M_PBH*(rtr_interp(a)/r_eq)**1.5\n",
    "\n",
    "def calcL(M, a ,j):\n",
    "    return np.sqrt(0.5*G*M**3*a*j**2)\n",
    "\n",
    "def calcFinalj(a_ini, j_ini, kappa, M_PBH):\n",
    "    #a_fin = a_final_interp(j_ini)\n",
    "\n",
    "    a_fin = 1.0*calc_af_true(a_ini)\n",
    "    Mh = M_halo(a_ini, M_PBH)\n",
    "    L_ini = calcL(M_PBH + Mh, a_ini,j_ini)\n",
    "    LDM_final = kappa + L_ini*Mh/(M_PBH + Mh)\n",
    "    #LDM_final = kappa\n",
    "    LPBH_final = np.clip(L_ini - LDM_final, 0, L_ini)\n",
    "    #print LPBH_final\n",
    "    return LPBH_final*(2.0/(G*M_PBH**3*a_fin))**0.5"
   ]
  },
  {
   "cell_type": "code",
   "execution_count": null,
   "metadata": {},
   "outputs": [],
   "source": [
    "a1 = 0.063\n",
    "j1 = 1e-5\n",
    "\n",
    "print (a1**4*(j1)**7)\n",
    "print (calc_af_true(a1)**4*(calcFinalj(a1,j1, 0.0, 1000.0))**7)"
   ]
  },
  {
   "cell_type": "markdown",
   "metadata": {},
   "source": [
    "**Calculating density as a function of potential:**"
   ]
  },
  {
   "cell_type": "code",
   "execution_count": null,
   "metadata": {},
   "outputs": [],
   "source": [
    "#List of x values\n",
    "#xlist = np.logspace(-4, np.log10(x_a-0.06),1000)\n",
    "#xlist = np.append(xlist,np.linspace(x_a-0.05, x_b+0.05),1000)\n",
    "#xlist = np.append(xlist,np.linspace(x_b+0.06,20,1000))\n",
    "#xlist = np.sort(xlist)\n",
    "xlist = np.append(np.logspace(-5, 0, 2000),np.linspace(1.10001, 10.0, 1000))\n",
    "xlist = np.append(xlist, np.linspace(10.1, 100.0, 1000))\n",
    "#xlist = np.append(np.logspace(-5, 1, 10000), 1.0)\n",
    "\n",
    "xlist = np.append(xlist, np.linspace(0.9, 1.1, 1000))\n",
    "xlist = np.sort(xlist)\n"
   ]
  },
  {
   "cell_type": "code",
   "execution_count": null,
   "metadata": {},
   "outputs": [],
   "source": [
    "rholist = np.vectorize(rho)(xlist)\n",
    "psilist = np.asarray(np.vectorize(psi)(xlist),dtype='float64')\n",
    "rholist = np.append(rholist, 0)\n",
    "psilist = np.append(psilist, 0)\n",
    "rho_of_psi = UnivariateSpline(psilist[::-1],rholist[::-1],k=5,s=0)"
   ]
  },
  {
   "cell_type": "code",
   "execution_count": null,
   "metadata": {},
   "outputs": [],
   "source": [
    "\n",
    "psi_interp = UnivariateSpline(xlist,psilist[:-1],k=5,s=0)\n",
    "dpsi = psi_interp.derivative(n=1)\n",
    "pl.figure()\n",
    "pl.loglog(xlist,-dpsi(xlist))\n",
    "#pl.semilogy(psilist,alpha1*np.exp(1.1/beta1)*np.exp(-c/(psilist*beta1))*c/(beta1*psilist**2))\n",
    "#pl.axvline(psi_min, color='k', linestyle=\":\")\n",
    "pl.axvline(1.0, color='k', linestyle=\":\")\n",
    "pl.xlim(0.1, 10.0)\n",
    "pl.ylim(1e-1, 1e2)\n",
    "\n",
    "pl.show()"
   ]
  },
  {
   "cell_type": "code",
   "execution_count": null,
   "metadata": {},
   "outputs": [],
   "source": [
    "pl.figure()\n",
    "pl.loglog(psilist,rholist)\n",
    "pl.loglog(psilist,rho_of_psi(psilist))\n",
    "\n",
    "pl.axvline(psi_min, color='k', linestyle=\":\")\n",
    "pl.axvline(psi_tr, color='k', linestyle=\":\")\n",
    "#pl.xlim(psi_tr - 5,psi_tr + 10)\n",
    "#pl.ylim(1e-20, 1e10)\n",
    "pl.show()"
   ]
  },
  {
   "cell_type": "code",
   "execution_count": null,
   "metadata": {},
   "outputs": [],
   "source": [
    "drho = rho_of_psi.derivative(n=1)\n",
    "d2rho = rho_of_psi.derivative(n=2)"
   ]
  },
  {
   "cell_type": "code",
   "execution_count": null,
   "metadata": {},
   "outputs": [],
   "source": [
    "c = 14.2844298406921\n",
    "def d2rho_fixed_scalar(p):\n",
    "    delta = 0.1\n",
    "    if (p < -1):\n",
    "        return 0.0\n",
    "    elif (psi_tr-delta < p <= psi_tr):\n",
    "        return d2rho(psi_tr - delta)\n",
    "    elif (psi_tr < p < psi_tr + delta):\n",
    "        return d2rho(psi_tr + delta)\n",
    "    elif (p >= -1):\n",
    "        return d2rho(p)\n",
    "\n",
    "d2rho_fixed = np.vectorize(d2rho_fixed_scalar)"
   ]
  },
  {
   "cell_type": "code",
   "execution_count": null,
   "metadata": {},
   "outputs": [],
   "source": [
    "d2rho(10)"
   ]
  },
  {
   "cell_type": "code",
   "execution_count": null,
   "metadata": {},
   "outputs": [],
   "source": [
    "pl.figure()\n",
    "pl.loglog(psilist,drho(psilist))\n",
    "#pl.semilogy(psilist,alpha1*np.exp(1.1/beta1)*np.exp(-c/(psilist*beta1))*c/(beta1*psilist**2))\n",
    "pl.axvline(psi_min, color='k', linestyle=\":\")\n",
    "pl.axvline(psi_tr, color='k', linestyle=\":\")\n",
    "pl.xlim(psi_min, 2*psi_tr)\n",
    "pl.ylim(1e-3, 1e-1)\n",
    "pl.show()"
   ]
  },
  {
   "cell_type": "code",
   "execution_count": null,
   "metadata": {},
   "outputs": [],
   "source": [
    "pl.figure()\n",
    "pl.loglog(psilist,d2rho(psilist), alpha=0.25)\n",
    "pl.loglog(psilist,d2rho_fixed(psilist))\n",
    "#pl.plot(psilist,d2rho_fixed(psilist)/np.sqrt(15.0 - psilist))\n",
    "#pl.plot(psilist,np.vectorize(d2rho_fixed)(psilist))\n",
    "pl.xlim(psi_tr - 1.0, psi_tr+1.0)\n",
    "pl.ylim(1e-3, 0.01)\n",
    "pl.axvline(psi_min, color='k', linestyle=\":\")\n",
    "pl.axvline(psi_max, color='k', linestyle=\":\")\n",
    "pl.axvline(psi_tr, color='k', linestyle=\":\")\n",
    "pl.show()\n",
    "\n"
   ]
  },
  {
   "cell_type": "code",
   "execution_count": null,
   "metadata": {},
   "outputs": [],
   "source": [
    "def calcf1(eps):\n",
    "    #if (eps <= psi_min):\n",
    "    #    return 0.0\n",
    "    if (eps < 1e-10):\n",
    "        return 0.0\n",
    "    integ = lambda p: rho0*d2rho_fixed_scalar(p)/np.sqrt(eps - p)\n",
    "    return quad(integ, 0, eps)[0]/(np.sqrt(8)*np.pi**2)"
   ]
  },
  {
   "cell_type": "code",
   "execution_count": null,
   "metadata": {},
   "outputs": [],
   "source": [
    "#e_list = np.append(0.0,np.logspace(np.log10(psi_min), np.log10(psi_max),1000))\n",
    "e_list = np.append(np.logspace(np.log10(psi_min),np.log10(psi_tr-0.0001), 300),np.logspace(np.log10(psi_tr+0.0001), np.log10(psi_max),300))\n",
    "#e_list = np.linspace(0.0, 14, 200)\n",
    "e_list = np.sort(np.append(e_list, np.linspace(psi_tr-1.0, psi_tr+1.0, 100)))\n",
    "e_list = np.append(0, e_list)\n",
    "#e_list = np.linspace(0.0, psi_max, 1000)"
   ]
  },
  {
   "cell_type": "code",
   "execution_count": null,
   "metadata": {},
   "outputs": [],
   "source": [
    "fvals = 0.0*e_list\n",
    "for i in tqdm(range(len(e_list))):\n",
    "    fvals[i] = calcf1(e_list[i])\n",
    "\n",
    "#print fvals"
   ]
  },
  {
   "cell_type": "code",
   "execution_count": null,
   "metadata": {},
   "outputs": [],
   "source": [
    "#e_list, fvals = np.loadtxt(\"distribution_trunc3.dat\", unpack=True)"
   ]
  },
  {
   "cell_type": "code",
   "execution_count": null,
   "metadata": {},
   "outputs": [],
   "source": [
    "finterp = UnivariateSpline(e_list, fvals, k=1,s=0)\n",
    "def f(eps):\n",
    "    #if (eps < 1):\n",
    "    #    return 0.0\n",
    "    return np.clip(finterp(eps),0,1e30)\n",
    "\n",
    "f_vec = np.vectorize(f)"
   ]
  },
  {
   "cell_type": "code",
   "execution_count": null,
   "metadata": {},
   "outputs": [],
   "source": [
    "pl.figure()\n",
    "pl.loglog(e_list,f_vec(e_list))\n",
    "#pl.semilogx(e_list,np.vectorize(stepfun)(e_list))\n",
    "#pl.axvline(psi_tr, linestyle=':', color='k')\n",
    "#pl.ylim(1, 1e4)\n",
    "#pl.xlim(0, 20.0)\n",
    "#print psi(5)\n",
    "pl.axvline(psi_min, color='k', linestyle=\":\")\n",
    "pl.axvline(psi_tr, color='k', linestyle=\":\")\n",
    "pl.show()"
   ]
  },
  {
   "cell_type": "markdown",
   "metadata": {},
   "source": [
    "**Re-checking the density:**"
   ]
  },
  {
   "cell_type": "code",
   "execution_count": null,
   "metadata": {},
   "outputs": [],
   "source": [
    "def vmax(x):\n",
    "    return np.sqrt(2*float(psi(x)))\n",
    "\n",
    "def dens(x):\n",
    "    integ = lambda v: v**2*f(float(psi(x)) - 0.5*v**2)\n",
    "    return 4*np.pi*quad(integ, 0, vmax(x))[0]"
   ]
  },
  {
   "cell_type": "code",
   "execution_count": null,
   "metadata": {},
   "outputs": [],
   "source": [
    "#print float(psi(2.0))\n",
    "print psi(0.75)\n",
    "print dens(0.75)/(rho0*rho(0.75))\n",
    "\n",
    "pl.figure()\n",
    "pl.plot(e_list,f_vec(e_list))\n",
    "pl.plot(e_list,fvals,'r+')\n",
    "#pl.semilogx(e_list,np.vectorize(stepfun)(e_list))\n",
    "#pl.axvline(psi_tr, linestyle=':', color='k')\n",
    "#pl.ylim(1e-10, 1000)\n",
    "#pl.xlim(10, 30)\n",
    "pl.show()\n",
    "\n",
    "pl.figure()\n",
    "pl.loglog(e_list,f_vec(e_list))\n",
    "pl.loglog(e_list,fvals,'r+')\n",
    "#pl.semilogx(e_list,np.vectorize(stepfun)(e_list))\n",
    "pl.axvline(psi_tr, linestyle=':', color='k')\n",
    "#pl.xlim(1, 16.36)\n",
    "pl.show()"
   ]
  },
  {
   "cell_type": "code",
   "execution_count": null,
   "metadata": {},
   "outputs": [],
   "source": [
    "xlist2 = np.logspace(np.log10(1e-6), np.log10(10),50)\n",
    "#xlist2 = np.linspace(0.85, 1.15,10)\n",
    "dens_list = 0.0*xlist2\n",
    "for i in tqdm(range(len(xlist2))):\n",
    "    dens_list[i] = dens(xlist2[i])"
   ]
  },
  {
   "cell_type": "code",
   "execution_count": null,
   "metadata": {},
   "outputs": [],
   "source": [
    "print psi(1.7)\n",
    "print rho0*rho(0.8)\n",
    "\n",
    "pl.figure()\n",
    "pl.loglog(xlist2, rho0*np.vectorize(rho)(xlist2), label=\"True\")\n",
    "pl.loglog(xlist2, dens_list, label=\"Reconstructed\")\n",
    "pl.legend(loc='best',fontsize=12.0)\n",
    "pl.xlabel(r'$x = r/r_\\mathrm{tr}$')\n",
    "pl.ylabel(r\"$\\rho_\\mathrm{DM}$ [$M_\\odot$ pc$^{-3}$]\")\n",
    "\n",
    "pl.figure()\n",
    "pl.semilogx(xlist2, (1/rho0)*dens_list/np.vectorize(rho)(xlist2))\n",
    "pl.xlabel(r'$x = r/r_\\mathrm{tr}$')\n",
    "pl.ylabel(r\"$\\rho_\\mathrm{recon}/\\rho_\\mathrm{true}$\")\n",
    "#pl.ylim(0.99,1.01)\n",
    "#pl.xlim(0, 2)\n",
    "pl.show()"
   ]
  },
  {
   "cell_type": "code",
   "execution_count": null,
   "metadata": {},
   "outputs": [],
   "source": [
    "htxt = \"M_PBH = \" + str(int(MPBH)) + \" M_solar, a/pc = \"+\"{0:.3f}\".format(a) + \", r_tr/pc = \" + str(rtr)\n",
    "outfilename = \"distribution_M=\" + str(int(MPBH)) + \"_a=\" +\"{0:.3f}\".format(a) + \".dat\"\n",
    "\n",
    "np.savetxt(outfilename,zip(e_list,np.clip(fvals,0,1e30)), header=htxt)\n",
    "\n",
    "print outfilename"
   ]
  },
  {
   "cell_type": "code",
   "execution_count": null,
   "metadata": {},
   "outputs": [],
   "source": [
    "#Speed distribution f(v) at a given radius r\n",
    "def f_scalar(x, v):\n",
    "    if (v >= vmax(x)):\n",
    "        return 0.0\n",
    "    else:\n",
    "        return 4.0*np.pi*(v**2)*f(float(psi(x)) - 0.5*v**2)/(rho0*rho(x))\n",
    "\n",
    "f_v = np.vectorize(f_scalar)"
   ]
  },
  {
   "cell_type": "code",
   "execution_count": null,
   "metadata": {},
   "outputs": [],
   "source": [
    "xpos = 1e-6\n",
    "vlist = np.linspace(0, vmax(xpos),100)\n",
    "#upper = 4*np.pi*vmax(xpos)**2*np.max(fvals[e_list < float(psi(xpos))])/rho(xpos)\n",
    "#print upper\n",
    "pl.figure()\n",
    "pl.plot(vlist, f_v(xpos,vlist))\n",
    "#pl.axhline(upper, linestyle=':', color='g')\n",
    "pl.axhline(5.0/vmax(xpos), linestyle=':', color='r')\n",
    "pl.show()\n"
   ]
  },
  {
   "cell_type": "code",
   "execution_count": null,
   "metadata": {},
   "outputs": [],
   "source": [
    "print \"DONE!\"\n",
    "\n",
    "\n",
    "#pl.figure(figsize=(7,7))\n",
    "\n",
    "#for astr in [\"0.001\",\"0.005\", \"0.010\", \"0.020\", \"0.040\", \"0.080\"]:\n",
    "#    x,y = np.loadtxt(\"distribution_a=\" + astr + \".dat\", unpack=True)\n",
    "#    pl.loglog(x,y, label = \"a = \" + astr)\n",
    "\n",
    "#pl.ylim(1e-5, 1e5)\n",
    "#pl.legend(loc='lower right')\n",
    "#pl.show()"
   ]
  },
  {
   "cell_type": "code",
   "execution_count": null,
   "metadata": {},
   "outputs": [],
   "source": []
  }
 ],
 "metadata": {
  "kernelspec": {
   "display_name": "Python 2",
   "language": "python",
   "name": "python2"
  },
  "language_info": {
   "codemirror_mode": {
    "name": "ipython",
    "version": 2
   },
   "file_extension": ".py",
   "mimetype": "text/x-python",
   "name": "python",
   "nbconvert_exporter": "python",
   "pygments_lexer": "ipython2",
   "version": "2.7.14"
  }
 },
 "nbformat": 4,
 "nbformat_minor": 2
}
