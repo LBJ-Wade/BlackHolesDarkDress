{
 "cells": [
  {
   "cell_type": "markdown",
   "metadata": {},
   "source": [
    "# Plotting the Gadget Simulation results\n"
   ]
  },
  {
   "cell_type": "code",
   "execution_count": 5,
   "metadata": {},
   "outputs": [],
   "source": [
    "%matplotlib inline\n",
    "\n",
    "from __future__ import division\n",
    "\n",
    "from pygadgetreader import *\n",
    "\n",
    "import numpy as np\n",
    "import matplotlib.pyplot as pl\n",
    "import matplotlib as mpl\n",
    "from tqdm import tqdm\n",
    "import sys\n",
    "\n",
    "#----- MATPLOTLIB paramaters ---------\n",
    "mpl.rcParams.update({'font.size': 18,'font.family':'serif'})\n",
    "\n",
    "mpl.rcParams['xtick.major.size'] = 7\n",
    "mpl.rcParams['xtick.major.width'] = 1\n",
    "mpl.rcParams['xtick.minor.size'] = 3\n",
    "mpl.rcParams['xtick.minor.width'] = 1\n",
    "mpl.rcParams['ytick.major.size'] = 7\n",
    "mpl.rcParams['ytick.major.width'] = 1\n",
    "mpl.rcParams['ytick.minor.size'] = 3\n",
    "mpl.rcParams['ytick.minor.width'] = 1\n",
    "mpl.rcParams['ytick.right'] = True\n",
    "mpl.rc('text', usetex=True)\n",
    "#--------------------------------------\n",
    "\n",
    "from scipy.interpolate import interp1d\n",
    "from scipy.integrate import quad\n"
   ]
  },
  {
   "cell_type": "markdown",
   "metadata": {},
   "source": [
    "### Some constants and parameters\n"
   ]
  },
  {
   "cell_type": "code",
   "execution_count": 6,
   "metadata": {},
   "outputs": [
    {
     "name": "stdout",
     "output_type": "stream",
     "text": [
      "Loading output from folder:  sims/M30_a0.01_lo_bin_e0.95_full/out/\n"
     ]
    }
   ],
   "source": [
    "G_N = 4.302e-3 #(pc/solar mass) (km/s)^2\n",
    "\n",
    "simID = \"M30_a0.01_lo_bin_e0.95_full\"\n",
    "\n",
    "title_text = r\"$M_\\mathrm{PBH} = 30\\,\\,M_\\odot$, $a_i = 0.01\\,\\,\\mathrm{pc}$, $e_i = 0.95$\"\n",
    "\n",
    "Nframes = 2001\n",
    "\n",
    "rootdir = \"sims/\" + simID + \"/out/\"\n",
    "\n",
    "print \"Loading output from folder: \", rootdir\n",
    "\n",
    "M_PBH =readsnap(rootdir+\"snapshot_000\", \"mass\", 1, suppress=1)[0]"
   ]
  },
  {
   "cell_type": "code",
   "execution_count": 7,
   "metadata": {},
   "outputs": [
    {
     "name": "stdout",
     "output_type": "stream",
     "text": [
      "   Number of PBHs: 2\n",
      "   Number of DM particles: [18080     0     0     0]\n",
      "   DM particle masses: [ 0.00034321  0.          0.          0.        ]\n"
     ]
    }
   ],
   "source": [
    "#Read in the first header file\n",
    "part_string = [\"dmcount\", \"diskcount\",\"bulgecount\", \"starcount\",\"bndrycount\"]\n",
    "\n",
    "nParticles = np.zeros(5, dtype='int')\n",
    "for i in range(5):\n",
    "    nParticles[i] = readheader(rootdir+\"snapshot_000\", part_string[i])\n",
    "\n",
    "nPBH = nParticles[0]\n",
    "nDM = nParticles[1:]\n",
    "print \"   Number of PBHs:\", nPBH\n",
    "print \"   Number of DM particles:\", nDM\n",
    "\n",
    "mDM = np.zeros(4)\n",
    "for i in range(4):\n",
    "    #print nDM[i]\n",
    "    if (nDM[i] > 0):\n",
    "        #print readsnap(rootdir+\"snapshot_000\", \"mass\", i+2, suppress=1)[0]\n",
    "        mDM[i] = readsnap(rootdir+\"snapshot_000\", \"mass\", i+2, suppress=1)[0]\n",
    "\n",
    "print \"   DM particle masses:\", mDM\n",
    "\n",
    "r_tr = 1.0\n",
    "aPBH = 1.0\n",
    "\n",
    "scaling = 1e-5\n"
   ]
  },
  {
   "cell_type": "markdown",
   "metadata": {},
   "source": [
    "### Functions for reading in and calculating simulation properties"
   ]
  },
  {
   "cell_type": "code",
   "execution_count": 8,
   "metadata": {},
   "outputs": [],
   "source": [
    "def GetPBHsep(i):\n",
    "    id = format(i, '03d')\n",
    "    xPBH = readsnap(rootdir+\"snapshot_\" + str(id), \"pos\", 1, suppress=1)\n",
    "    deltax = xPBH[0,:] - xPBH[1,:]\n",
    "    return scaling*np.sqrt(np.sum(deltax**2))\n",
    "\n",
    "def GetDMr(i):\n",
    "    id = format(i, '03d')\n",
    "    #print \"   Snapshot\", id\n",
    "    xPBH = readsnap(rootdir+\"snapshot_\" + str(id), \"pos\", 1, suppress=1)\n",
    "    #xPBH = 0.0\n",
    "    pid = readsnap(rootdir+\"snapshot_\" + str(id), \"pid\", 1, suppress=1)\n",
    "    \n",
    "    i1 = [0,1]\n",
    "    if (pid[0] > pid[1]):\n",
    "        i1 = [1,0]\n",
    "\n",
    "    if (nPBH > 1):\n",
    "        xPBH = 1.0*xPBH[i1[0],:]\n",
    "    xDM = readsnap(rootdir+\"snapshot_\" + str(id), \"pos\", 2, suppress=1)\n",
    "    rDM = np.sqrt(np.sum((xDM - xPBH)**2.0, axis=1))\n",
    "    #print np.min(rDM*scaling)\n",
    "    return scaling*rDM\n",
    "\n",
    "#DM mass inside 0.1 r_tr (for 30 M_solar)\n",
    "def GetDMenc(fid):\n",
    "    return mDM[0]*np.sum(GetDMr(fid) < 4.33e-04)\n",
    "\n",
    "def GetL_PBH(fid):\n",
    "    id = format(fid, '03d')\n",
    "    xPBH = scaling*readsnap(rootdir+\"snapshot_\" + str(id), \"pos\", 1, suppress=1)\n",
    "    #print xPBH\n",
    "    vPBH = readsnap(rootdir+\"snapshot_\" + str(id), \"vel\", 1, suppress=1)\n",
    "    #print vPBH\n",
    "    L_PBH = np.cross(xPBH, vPBH)\n",
    "    #print L_PBH\n",
    "    return M_PBH*np.sum(L_PBH, axis=0)\n",
    "    #return M_PBH*L_PBH[0,:]\n",
    "\n",
    "def Getv_PBH(fid):\n",
    "    id = format(fid, '03d')\n",
    "    vPBH = readsnap(rootdir+\"snapshot_\" + str(id), \"vel\", 1, suppress=1)\n",
    "    return vPBH[0,:] - vPBH[1,:]\n",
    "\n",
    "def Getr_PBH(fid):\n",
    "    id = format(fid, '03d')\n",
    "    xPBH = scaling*readsnap(rootdir+\"snapshot_\" + str(id), \"pos\", 1, suppress=1)\n",
    "    return xPBH[0,:] - xPBH[1,:]\n",
    "\n",
    "def GetL_DM(fid):\n",
    "    id = format(fid, '03d')\n",
    "    xDM = scaling*readsnap(rootdir+\"snapshot_\" + str(id), \"pos\", 2, suppress=1)\n",
    "    vDM = readsnap(rootdir+\"snapshot_\" + str(id), \"vel\", 2, suppress=1)\n",
    "    L_DM = np.cross(xDM, vDM)\n",
    "    return mDM[0]*np.sum(L_DM, axis=0)\n",
    "\n",
    "def Getv_DM(fid):\n",
    "    id = format(fid, '03d')\n",
    "    #xDM = scaling*readsnap(rootdir+\"snapshot_\" + str(id), \"pos\", 2, suppress=1)\n",
    "    vDM = readsnap(rootdir+\"snapshot_\" + str(id), \"vel\", 2, suppress=1)\n",
    "    #L_DM = np.cross(xDM, vDM)\n",
    "    return np.mean(vDM, axis=0)\n",
    "    "
   ]
  },
  {
   "cell_type": "markdown",
   "metadata": {},
   "source": [
    "#### Get times of each snapshot"
   ]
  },
  {
   "cell_type": "code",
   "execution_count": 9,
   "metadata": {},
   "outputs": [
    {
     "name": "stderr",
     "output_type": "stream",
     "text": [
      "100%|██████████| 2001/2001 [00:01<00:00, 1745.49it/s]\n"
     ]
    }
   ],
   "source": [
    "dt = 9.785e-3 #kyr \n",
    "\n",
    "def GetSimTime(fid):\n",
    "    id = format(fid, '03d')\n",
    "    t = readheader(rootdir+\"snapshot_\" + id, \"time\")\n",
    "    return t\n",
    "\n",
    "tlist = np.zeros(Nframes)\n",
    "for i in tqdm(range(Nframes)):\n",
    "    tlist[i] = GetSimTime(i)\n",
    "    \n",
    "tvals = tlist*dt"
   ]
  },
  {
   "cell_type": "markdown",
   "metadata": {},
   "source": [
    "#### Calculating + plotting PBH separation and DM mass enclosed"
   ]
  },
  {
   "cell_type": "code",
   "execution_count": 10,
   "metadata": {},
   "outputs": [
    {
     "name": "stderr",
     "output_type": "stream",
     "text": [
      "100%|██████████| 2001/2001 [00:10<00:00, 187.24it/s]\n"
     ]
    }
   ],
   "source": [
    "sep = np.zeros(Nframes)\n",
    "DMmass = np.zeros(Nframes)\n",
    "\n",
    "for i in tqdm(range(Nframes)):\n",
    "\n",
    "    sep[i] = GetPBHsep(i)\n",
    "    DMmass[i] = GetDMenc(i)"
   ]
  },
  {
   "cell_type": "code",
   "execution_count": 11,
   "metadata": {},
   "outputs": [
    {
     "data": {
      "image/png": "[encoded data removed]",
      "text/plain": [
       "<matplotlib.figure.Figure at 0x1057b1ad0>"
      ]
     },
     "metadata": {},
     "output_type": "display_data"
    }
   ],
   "source": [
    "fig, ax1 = pl.subplots(figsize=(7.5,5))\n",
    "                                  \n",
    "ax1.plot(tvals,sep)\n",
    "\n",
    "#ax1.set_ylim(1e-5, 1e0)\n",
    "ax1.set_ylim(0, 3e-2)\n",
    "#ax1.fill_between(tvals, 1e-3, 1e-2, color='grey', alpha=0.25)\n",
    "ax1.set_xlabel(r\"Simulation time [kyr]\")\n",
    "#ax1.set_title(sys.argv[1])\n",
    "ax1.set_title(title_text, fontsize=18.0)\n",
    "ax1.tick_params('y', colors='b')\n",
    "ax1.set_ylabel(r\"PBH separation [pc]\", color='b')\n",
    "\n",
    "ax2 = ax1.twinx()\n",
    "ax2.plot(tvals,DMmass, 'g')\n",
    "ax2.tick_params('y', colors='g')\n",
    "ax2.set_ylabel(r'DM mass enclosed within $0.1\\,R_\\mathrm{tr}$ [$M_\\odot$]', color='g')\n",
    "ax2.set_ylim(0, 1.2)\n",
    "pl.tight_layout()\n",
    "pl.savefig(\"../plots/PBH_separation_\" + simID + \".pdf\", bbox_inches='tight')"
   ]
  },
  {
   "cell_type": "markdown",
   "metadata": {},
   "source": [
    "#### Calculating and plotting angular momenta"
   ]
  },
  {
   "cell_type": "code",
   "execution_count": 12,
   "metadata": {},
   "outputs": [
    {
     "name": "stderr",
     "output_type": "stream",
     "text": [
      "100%|██████████| 2001/2001 [00:15<00:00, 133.12it/s]\n"
     ]
    }
   ],
   "source": [
    "LPBH = np.zeros((Nframes, 3))\n",
    "LDM = np.zeros((Nframes, 3))\n",
    "\n",
    "vPBH = np.zeros((Nframes,3))\n",
    "rPBH = np.zeros((Nframes,3))\n",
    "\n",
    "vDM = np.zeros((Nframes,3))\n",
    "\n",
    "for i in tqdm(range(Nframes)):\n",
    "\n",
    "    vPBH[i,:] = Getv_PBH(i)\n",
    "    vDM[i,:] = Getv_DM(i)\n",
    "    rPBH[i,:] = Getr_PBH(i)\n",
    "    LPBH[i,:] = GetL_PBH(i)\n",
    "    LDM[i,:] = GetL_DM(i)"
   ]
  },
  {
   "cell_type": "code",
   "execution_count": 15,
   "metadata": {},
   "outputs": [
    {
     "name": "stdout",
     "output_type": "stream",
     "text": [
      "[  5.76336494   8.61079995  10.62650996  12.31931496  13.81641993\n",
      "  15.20588998  16.51707994  17.76956     18.98289998]\n"
     ]
    },
    {
     "data": {
      "image/png": "[encoded data removed]",
      "text/plain": [
       "<matplotlib.figure.Figure at 0x1057b1e10>"
      ]
     },
     "metadata": {},
     "output_type": "display_data"
    }
   ],
   "source": [
    "LPBH_mag = np.sqrt(np.sum(LPBH**2, 1))\n",
    "LDM_mag = np.sqrt(np.sum(LDM**2, 1))\n",
    "\n",
    "pl.figure(figsize=(7,5))\n",
    "\n",
    "sep_cut = sep[550:]\n",
    "\n",
    "t_cp_list = tvals[550:][np.r_[True, sep_cut[1:] < sep_cut[:-1]] & np.r_[sep_cut[:-1] < sep_cut[1:], True]]\n",
    "print t_cp_list\n",
    "#Calculate when the first close passage happens\n",
    "#t_cp = tvals[np.argmin(sep[:600])]\n",
    "#print(t_cp)\n",
    "for t_cp in t_cp_list:\n",
    "    pl.axvline(t_cp, linestyle='--', color='grey', alpha=0.5)\n",
    "#pl.axvline(6.0, linestyle='--', color='grey', alpha=0.5)\n",
    "\n",
    "pl.plot(tvals, LPBH_mag, label='PBH')\n",
    "pl.plot(tvals, LDM_mag, label='DM')\n",
    "\n",
    "pl.legend(loc='best', fontsize=14.0)\n",
    "pl.title(title_text, fontsize=18.0)\n",
    "pl.xlabel(r\"Simulation time [kyr]\")\n",
    "pl.ylabel(r\"Angular momentum, $L \\,[M_\\odot\\,\\,\\mathrm{pc}\\,\\,\\mathrm{km/s}]$\")\n",
    "pl.ylim(0, 0.3)\n",
    "pl.tight_layout()\n",
    "pl.savefig(\"../plots/PBH_L_\" + simID + \".pdf\", bbox_inches='tight')"
   ]
  },
  {
   "cell_type": "code",
   "execution_count": null,
   "metadata": {},
   "outputs": [],
   "source": [
    "\n",
    "\n",
    "pl.figure(figsize=(7,5))\n",
    "\n",
    "#Calculate when the first close passage happens\n",
    "t_cp = tvals[np.argmin(sep[:600])]\n",
    "print(t_cp)\n",
    "pl.axvline(t_cp, linestyle='--', color='grey', alpha=0.5)\n",
    "\n",
    "pl.semilogy(tvals, np.sqrt(np.sum(vPBH**2,axis=1)), label='PBH')\n",
    "\n",
    "pl.legend(loc='best')\n",
    "pl.title(title_text, fontsize=14.0)\n",
    "pl.xlabel(r\"Simulation time [kyr]\")\n",
    "pl.ylabel(r\"$v [\\mathrm{km/s}]$\")\n",
    "#pl.ylim(0, 0.1)\n",
    "pl.xlim(0, 10.0)\n",
    "pl.tight_layout()\n",
    "#pl.savefig(\"../plots/PBH_L_\" + simID + \".pdf\")\n",
    "\n",
    "\n",
    "pl.figure(figsize=(7,5))\n",
    "\n",
    "#Calculate when the first close passage happens\n",
    "t_cp = tvals[np.argmin(sep[:600])]\n",
    "print(t_cp)\n",
    "pl.axvline(t_cp, linestyle='--', color='grey', alpha=0.5)\n",
    "pl.axhline(np.sqrt(np.sum(vPBH[0,:]**2)),linestyle='--', color='grey', alpha=0.5)\n",
    "\n",
    "pl.plot(tvals, np.sqrt(np.sum(vPBH**2,axis=1)) - 0.0*2.0*G_N*30.0/sep, label='PBH')\n",
    "\n",
    "pl.legend(loc='best')\n",
    "pl.title(r\"$M_\\mathrm{PBH} = 30\\,\\,M_\\odot$, $a_i = 0.01\\,\\,\\mathrm{pc}$, $e_i = 0.995$\", fontsize=14.0)\n",
    "pl.xlabel(r\"Simulation time [kyr]\")\n",
    "#pl.ylabel(r\"$v [\\mathrm{km/s}]$\")\n",
    "#pl.ylim(0, 1e3)\n",
    "pl.xlim(5.7, 6.0)\n",
    "pl.tight_layout()\n",
    "#pl.savefig(\"../plots/PBH_L_\" + simID + \".pdf\")"
   ]
  },
  {
   "cell_type": "code",
   "execution_count": null,
   "metadata": {},
   "outputs": [],
   "source": [
    "pl.figure(figsize=(7,5))\n",
    "\n",
    "#Calculate when the first close passage happens\n",
    "t_cp = tvals[np.argmin(sep[:600])]\n",
    "\n",
    "#pl.axvline(t_cp, linestyle='--', color='grey', alpha=0.5)\n",
    "\n",
    "pl.plot(tvals, np.sqrt(np.sum(rPBH**2,axis=1)) - 0.0*2.0*G_N*30.0/sep, color='r', label='r')\n",
    "\n",
    "ax1 = pl.gca()\n",
    "ax2 = ax1.twinx()\n",
    "ax2.plot(tvals, np.sqrt(np.sum(vPBH**2,axis=1)) - 0.0*2.0*G_N*30.0/sep, color='b', label='v')\n",
    "\n",
    "pl.legend(loc='best')\n",
    "pl.title(r\"$M_\\mathrm{PBH} = 30\\,\\,M_\\odot$, $a_i = 0.01\\,\\,\\mathrm{pc}$, $e_i = 0.995$\", fontsize=14.0)\n",
    "pl.xlabel(r\"Simulation time [kyr]\")\n",
    "#pl.ylabel(r\"$v [\\mathrm{km/s}]$\")\n",
    "#pl.ylim(0, 1e3)\n",
    "#pl.xlim(5.7, 6.0)\n",
    "pl.tight_layout()\n",
    "#pl.savefig(\"../plots/PBH_L_\" + simID + \".pdf\")"
   ]
  },
  {
   "cell_type": "code",
   "execution_count": null,
   "metadata": {},
   "outputs": [],
   "source": [
    "pl.figure(figsize=(7,5))\n",
    "\n",
    "#Calculate when the first close passage happens\n",
    "t_cp = tvals[np.argmin(sep[:600])]\n",
    "\n",
    "#pl.axvline(t_cp, linestyle='--', color='grey', alpha=0.5)\n",
    "\n",
    "pl.plot(tvals, np.cross(rPBH,vPBH) , color='r', label='r')\n",
    "\n",
    "ax1 = pl.gca()\n",
    "ax2 = ax1.twinx()\n",
    "ax2.plot(tvals, vPBH[:,0], color='b', label='v')\n",
    "\n",
    "pl.legend(loc='best')\n",
    "pl.title(r\"$M_\\mathrm{PBH} = 30\\,\\,M_\\odot$, $a_i = 0.01\\,\\,\\mathrm{pc}$, $e_i = 0.995$\", fontsize=14.0)\n",
    "pl.xlabel(r\"Simulation time [kyr]\")\n",
    "#pl.ylabel(r\"$v [\\mathrm{km/s}]$\")\n",
    "#pl.ylim(0, 1e3)\n",
    "#pl.xlim(5.7, 6.0)\n",
    "pl.tight_layout()\n",
    "#pl.savefig(\"../plots/PBH_L_\" + simID + \".pdf\")"
   ]
  },
  {
   "cell_type": "code",
   "execution_count": null,
   "metadata": {},
   "outputs": [],
   "source": [
    "pl.figure(figsize=(7,5))\n",
    "\n",
    "#Calculate when the first close passage happens\n",
    "t_cp = tvals[np.argmin(sep[:600])]\n",
    "\n",
    "pl.axvline(t_cp, linestyle='--', color='grey', alpha=0.5)\n",
    "\n",
    "pl.plot(tvals, vDM[:,0], alpha=0.3, label='x')\n",
    "pl.plot(tvals, vDM[:,1], alpha=0.3, label='y')\n",
    "pl.plot(tvals, vDM[:,2], alpha=0.3, label='z')\n",
    "\n",
    "pl.legend(loc='best')\n",
    "pl.title(r\"$M_\\mathrm{PBH} = 30\\,\\,M_\\odot$, $a_i = 0.01\\,\\,\\mathrm{pc}$, $e_i = 0.995$\", fontsize=14.0)\n",
    "pl.xlabel(r\"Simulation time [kyr]\")\n",
    "#pl.ylabel(r\"$v [\\mathrm{km/s}]$\")\n",
    "#pl.ylim(0, 1e3)\n",
    "#pl.xlim(5.7, 6.0)\n",
    "pl.tight_layout()\n",
    "#pl.savefig(\"../plots/PBH_L_\" + simID + \".pdf\")"
   ]
  },
  {
   "cell_type": "code",
   "execution_count": null,
   "metadata": {},
   "outputs": [],
   "source": [
    "def GetLDMlist(fid):\n",
    "\n",
    "    id = format(fid, '03d')\n",
    "    xDM = scaling*readsnap(rootdir+\"snapshot_\" + str(id), \"pos\", 2, suppress=1)\n",
    "    vDM = readsnap(rootdir+\"snapshot_\" + str(id), \"vel\", 2, suppress=1)\n",
    "    L_DM = np.cross(xDM, vDM)\n",
    "    return L_DM[:,2]\n",
    "\n",
    "print np.sum(GetLDMlist(2000))\n",
    "\n",
    "pl.figure()\n",
    "pl.hist(GetLDMlist(0), bins=np.linspace(-0.5,0.5,51), alpha=0.25, label='0')\n",
    "pl.hist(GetLDMlist(2000), bins=np.linspace(-0.5,0.5,51), alpha=0.25, label='later')\n",
    "pl.legend(loc='best')\n",
    "pl.show()"
   ]
  },
  {
   "cell_type": "code",
   "execution_count": null,
   "metadata": {},
   "outputs": [],
   "source": [
    "print(2*np.pi*np.sqrt((1e-6)**3/(G_N*30.0)))"
   ]
  },
  {
   "cell_type": "code",
   "execution_count": null,
   "metadata": {},
   "outputs": [],
   "source": []
  }
 ],
 "metadata": {
  "kernelspec": {
   "display_name": "Python 2",
   "language": "python",
   "name": "python2"
  },
  "language_info": {
   "codemirror_mode": {
    "name": "ipython",
    "version": 2
   },
   "file_extension": ".py",
   "mimetype": "text/x-python",
   "name": "python",
   "nbconvert_exporter": "python",
   "pygments_lexer": "ipython2",
   "version": "2.7.14"
  }
 },
 "nbformat": 4,
 "nbformat_minor": 2
}
