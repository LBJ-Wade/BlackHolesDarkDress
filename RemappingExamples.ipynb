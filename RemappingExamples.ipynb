{
 "cells": [
  {
   "cell_type": "markdown",
   "metadata": {},
   "source": [
    "# Illustrative the remapping procedure"
   ]
  },
  {
   "cell_type": "code",
   "execution_count": null,
   "metadata": {},
   "outputs": [],
   "source": [
    "%matplotlib inline\n",
    "\n",
    "import numpy as np\n",
    "import matplotlib.pyplot as pl\n",
    "import matplotlib as mpl\n",
    "\n",
    "mpl.rcParams.update({'font.size': 18,'font.family':'serif'})\n",
    "\n",
    "mpl.rcParams['xtick.major.size'] = 7\n",
    "mpl.rcParams['xtick.major.width'] = 1\n",
    "mpl.rcParams['xtick.minor.size'] = 3\n",
    "mpl.rcParams['xtick.minor.width'] = 1\n",
    "mpl.rcParams['ytick.major.size'] = 7\n",
    "mpl.rcParams['ytick.major.width'] = 1\n",
    "mpl.rcParams['ytick.minor.size'] = 3\n",
    "mpl.rcParams['ytick.minor.width'] = 1\n",
    "mpl.rcParams['xtick.direction'] = 'in'\n",
    "mpl.rcParams['ytick.direction'] = 'in'\n",
    "mpl.rcParams['xtick.top'] = True\n",
    "mpl.rcParams['ytick.right'] = True\n",
    "mpl.rcParams['font.family'] = 'serif'\n",
    "mpl.rc('text', usetex=True)\n",
    "\n",
    "mpl.rcParams['legend.edgecolor'] = 'inherit'\n",
    "\n",
    "import Remapping as RM\n",
    "reload(RM)"
   ]
  },
  {
   "cell_type": "markdown",
   "metadata": {},
   "source": [
    "### Plot the remapping of the semi-major axis"
   ]
  },
  {
   "cell_type": "code",
   "execution_count": null,
   "metadata": {},
   "outputs": [],
   "source": [
    "M_list = [1, 30, 1000]\n",
    "\n",
    "pl.figure(figsize=(7,6))\n",
    "\n",
    "for M_PBH in M_list:\n",
    "    amax = RM.semimajoraxis_full(RM.z_eq, 1.0, M_PBH)\n",
    "    #print amax\n",
    "    a_i = np.logspace(-4, np.log10(amax), 100)\n",
    "    a_f = np.vectorize(RM.calc_af)(a_i, M_PBH)\n",
    "    pl.loglog(a_i, a_f, label=str(M_PBH) + \" $M_\\odot$\")\n",
    "    \n",
    "pl.legend()\n",
    "pl.loglog([1e-4, 3e-1], [1e-4, 3e-1], linestyle='--', color='k')\n",
    "\n",
    "pl.xlabel(r\"Initial semi-major axis, $a_i\\,\\,[\\mathrm{pc}]$\")\n",
    "pl.ylabel(r\"Final semi-major axis, $a_f \\,\\,[\\mathrm{pc}]$\")\n",
    "\n",
    "pl.gca().set_aspect('equal')\n",
    "\n",
    "pl.tight_layout()\n",
    "pl.savefig(\"plots/Mapping_a.pdf\")\n",
    "pl.show()\n",
    "    "
   ]
  },
  {
   "cell_type": "markdown",
   "metadata": {},
   "source": [
    "### Plot the remapping of the merger time"
   ]
  },
  {
   "cell_type": "code",
   "execution_count": null,
   "metadata": {},
   "outputs": [],
   "source": []
  }
 ],
 "metadata": {
  "kernelspec": {
   "display_name": "Python 2",
   "language": "python",
   "name": "python2"
  },
  "language_info": {
   "codemirror_mode": {
    "name": "ipython",
    "version": 2
   },
   "file_extension": ".py",
   "mimetype": "text/x-python",
   "name": "python",
   "nbconvert_exporter": "python",
   "pygments_lexer": "ipython2",
   "version": "2.7.14"
  }
 },
 "nbformat": 4,
 "nbformat_minor": 2
}
