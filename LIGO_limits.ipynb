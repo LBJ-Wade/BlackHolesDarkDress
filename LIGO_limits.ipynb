{
 "cells": [
  {
   "cell_type": "markdown",
   "metadata": {},
   "source": [
    "# LIGO Limits\n",
    "\n",
    "Here, we estimate the LIGO observed merger rate, given a distribution of PBH binaries. This allows us to estimate the limit placed on the PBH abundance by LIGO.\n",
    "\n",
    "**References:** [arXiv:1602.03842](https://arxiv.org/pdf/1602.03842.pdf), [arXiv:1606.03939](https://arxiv.org/abs/1606.03939), [arXiv:1704.04628](https://arxiv.org/abs/1704.04628)"
   ]
  },
  {
   "cell_type": "code",
   "execution_count": null,
   "metadata": {},
   "outputs": [],
   "source": [
    "%matplotlib inline\n",
    "\n",
    "from __future__ import division\n",
    "\n",
    "import numpy as np\n",
    "import matplotlib.pyplot as pl\n",
    "import matplotlib as mpl\n",
    "\n",
    "#----- MATPLOTLIB paramaters ---------\n",
    "mpl.rcParams.update({'font.size': 18,'font.family':'serif'})\n",
    "\n",
    "mpl.rcParams['xtick.major.size'] = 7\n",
    "mpl.rcParams['xtick.major.width'] = 1\n",
    "mpl.rcParams['xtick.minor.size'] = 3\n",
    "mpl.rcParams['xtick.minor.width'] = 1\n",
    "mpl.rcParams['ytick.major.size'] = 7\n",
    "mpl.rcParams['ytick.major.width'] = 1\n",
    "mpl.rcParams['ytick.minor.size'] = 3\n",
    "mpl.rcParams['ytick.minor.width'] = 1\n",
    "#--------------------------------------\n",
    "\n",
    "from scipy.interpolate import interp1d\n",
    "from scipy.integrate import quad\n"
   ]
  },
  {
   "cell_type": "markdown",
   "metadata": {},
   "source": [
    "### LIGO sensitivity as a function of redshift\n",
    "\n",
    "Read in the time-volume sensitivity for LIGO, from Fig. 7 of [arXiv:1704.04628](https://arxiv.org/abs/1704.04628):"
   ]
  },
  {
   "cell_type": "code",
   "execution_count": null,
   "metadata": {},
   "outputs": [],
   "source": [
    "sens_data_10Msun = np.loadtxt(\"data/LIGO_sensitivity_10.txt\")\n",
    "sens_data_20Msun = np.loadtxt(\"data/LIGO_sensitivity_20.txt\")\n",
    "sens_data_40Msun = np.loadtxt(\"data/LIGO_sensitivity_40.txt\")"
   ]
  },
  {
   "cell_type": "code",
   "execution_count": null,
   "metadata": {},
   "outputs": [],
   "source": [
    "\n",
    "sensitivities = [sens_data_10Msun, sens_data_20Msun, sens_data_40Msun]\n",
    "labels = [r\"$10\\,M_\\odot$\",r\"$20\\,M_\\odot$\",r\"$40\\,M_\\odot$\"]\n",
    "\n",
    "pl.figure(figsize=(7,5))\n",
    "\n",
    "for sens, lab in zip(sensitivities, labels):\n",
    "    pl.plot(sens[:,0], sens[:,1], linewidth=1.5, label=lab)\n",
    "    \n",
    "pl.xlim(0, 1.0)\n",
    "pl.ylim(0, 0.75)\n",
    "\n",
    "pl.xlabel(r\"$z$\")\n",
    "pl.ylabel(r\"$\\mathrm{d}\\langle V T \\rangle/\\mathrm{d}z$ (Gpc$^3$ yr)\")\n",
    "\n",
    "pl.legend(loc='upper right', frameon=False)\n",
    "\n",
    "pl.show()"
   ]
  },
  {
   "cell_type": "markdown",
   "metadata": {},
   "source": [
    "### Calculating the LIGO sensitivity\n",
    "\n",
    "Unfortunately, we don't have sensitivity information as a function of redshift for any other PBH masses. However, the distribution of merger times turns out to be more or less uniform as a function of $t$ (and therefore $z$). We therefore only need the integrated time-volume sensitivity $\\langle VT \\rangle$.\n",
    "\n",
    "We obtain this by integrating the above sensitivities as a function of redshift. For 100, 200 and 300 Solar Mass BHs, we take the 90% upper limit on the merger rate density from [arXiv:1704.04628](https://arxiv.org/abs/1704.04628). We can convert between time-volume and sensitivity using:\n",
    "\n",
    "$$R_{90\\%} = \\frac{2.303}{\\langle VT \\rangle} \\, ,$$\n",
    "\n",
    "from Eq. 2 of that paper."
   ]
  },
  {
   "cell_type": "code",
   "execution_count": null,
   "metadata": {},
   "outputs": [],
   "source": [
    "M_list = np.asarray([10., 20., 40.])\n",
    "VT = np.zeros_like(M_list)\n",
    "\n",
    "#Calculate stellar mass BH sensitivities by integrating\n",
    "for i, sens in enumerate(sensitivities):\n",
    "    VT[i] = np.trapz(sens[:,1], sens[:,0])\n",
    "\n",
    "#Calculate IMBH sensitivities by converting from R90    \n",
    "R_90_IMBH = np.loadtxt(\"data/LIGO_R90_IMBH.txt\")\n",
    "M_list = np.append(M_list, R_90_IMBH[:,0])\n",
    "VT_IMBH = np.asarray([2.303/R_90_IMBH[j,1] for j in range(3)]) \n",
    "\n",
    "VT = np.append(VT, VT_IMBH)\n",
    "\n",
    "#Do some plotting\n",
    "pl.figure()\n",
    "pl.loglog(M_list, VT, 's')\n",
    "pl.xlabel(r\"$M_\\mathrm{BH} \\,[M_\\odot]$\")\n",
    "pl.ylabel(r\"$\\langle VT \\rangle \\, [\\mathrm{Gpc}^3 \\,\\mathrm{yr}]$\")\n",
    "pl.title(\"Time-volume sensitivity\", fontsize=14.0)\n",
    "pl.show()"
   ]
  },
  {
   "cell_type": "markdown",
   "metadata": {},
   "source": [
    "### LIGO Upper limit\n",
    "\n",
    "Estimate the LIGO upper limit on the merger rate density and save to file"
   ]
  },
  {
   "cell_type": "code",
   "execution_count": null,
   "metadata": {},
   "outputs": [],
   "source": [
    "R90_LIGO = 2.303/VT\n",
    "\n",
    "np.savetxt(\"data/R90_LIGO.txt\", zip(M_list, R90_LIGO), header=\"90% UL on merger rate density from LIGO\\nColumns: M_BH [M_solar], R_90% [Gpc^-3 yr^-1]\")\n",
    "\n",
    "M1 = np.linspace(M_list[0], M_list[-1])\n",
    "\n",
    "lR90_interp = interp1d(np.log10(M_list), np.log10(R90_LIGO), kind='linear')\n",
    "\n",
    "pl.figure()\n",
    "pl.fill_between(M1, 10**lR90_interp(np.log10(M1)), 1e3, color='blue', alpha=0.25)\n",
    "pl.loglog(M_list, R90_LIGO, 's')\n",
    "pl.xlabel(r\"$M_\\mathrm{BH} \\,[M_\\odot]$\")\n",
    "pl.ylabel(r\"$R_{90\\%} \\, [\\mathrm{Gpc}^{-3} \\,\\mathrm{yr}^{-1}]$\")\n",
    "pl.title(\"Merger rate density upper limit\", fontsize=14.0)\n",
    "pl.show()"
   ]
  },
  {
   "cell_type": "markdown",
   "metadata": {},
   "source": [
    "### Redshift-time relation\n",
    "\n",
    "The time since the Big Bang is given by:\n",
    "\n",
    "$$t(z) = \\int_z^\\infty \\frac{\\mathrm{d}z'}{(1+z') H(z')}\\,,$$\n",
    "\n",
    "where\n",
    "\n",
    "$$H(z') = \\sqrt{\\Omega_\\Lambda + \\Omega_m (1+z)^3}\\,,$$\n",
    "\n",
    "in a flat universe. We use the Planck 2015 values from [arXiv:1502.01589](https://arxiv.org/abs/1502.01589), noting that there is some tension between different measurements of $H_0$:\n",
    "\n",
    "- $H_0 = 67.8 \\,\\,\\mathrm{km/s}\\,\\mathrm{Mpc}^{-1}$\n",
    "- $\\Omega_\\Lambda = 0.692$\n",
    "- $\\Omega_m = 0.308$"
   ]
  },
  {
   "cell_type": "code",
   "execution_count": null,
   "metadata": {},
   "outputs": [],
   "source": [
    "#Get H in units of 1/yr\n",
    "#(km/Mpc) = 3.24e-20\n",
    "H0_peryr = 67.8*(3.24e-20)*(60*60*24*365)\n",
    "\n",
    "Omega_L = 0.692\n",
    "Omega_m = 0.308\n",
    "\n",
    "def Hubble(z):\n",
    "    return H0_peryr*np.sqrt(Omega_L + Omega_m*(1+z)**3)"
   ]
  },
  {
   "cell_type": "code",
   "execution_count": null,
   "metadata": {},
   "outputs": [],
   "source": [
    "#Calculate time from Big Bang until redshift z (in years)\n",
    "def t_univ(z):\n",
    "    integ = lambda x: 1.0/((1+x)*Hubble(x))\n",
    "    return quad(integ, z, np.inf)[0]"
   ]
  },
  {
   "cell_type": "code",
   "execution_count": null,
   "metadata": {},
   "outputs": [],
   "source": [
    "#Plot age of the universe as a function of Redshift\n",
    "\n",
    "zlist = np.linspace(0, 2, 50)\n",
    "tvals = np.asarray([t_univ(z) for z in zlist])\n",
    "\n",
    "pl.figure(figsize=(6.1,6))\n",
    "pl.plot(zlist, tvals/1e9)\n",
    "\n",
    "pl.xlabel(r\"Redshift, $z$\")\n",
    "pl.ylabel(r\"Time since Big Bang, $t$ [Gyr]\")\n",
    "\n",
    "pl.ylim(0, 15)\n",
    "\n",
    "pl.show()\n",
    "\n",
    "z_of_t = interp1d(tvals, zlist)"
   ]
  },
  {
   "cell_type": "code",
   "execution_count": null,
   "metadata": {},
   "outputs": [],
   "source": [
    "#Now also plot z as a function of time\n",
    "\n",
    "pl.figure(figsize=(6.1,6))\n",
    "pl.plot(tvals/1e9,zlist)\n",
    "\n",
    "pl.axhline(0.6, linestyle='--', color='k')\n",
    "\n",
    "pl.ylabel(r\"Redshift, $z$\")\n",
    "pl.xlabel(r\"Time since Big Bang, $t$ [Gyr]\")\n",
    "\n",
    "pl.show()"
   ]
  },
  {
   "cell_type": "markdown",
   "metadata": {},
   "source": [
    "### Merger Rate\n",
    "\n",
    "Calculate Merger rate from PBH binaries, as a function of the merger time. This is given by:\n",
    "\n",
    "$$ R_\\mathrm{merge}(t_\\mathrm{merge}) = n_\\mathrm{PBH} P(t_\\mathrm{merge})\\,.$$\n",
    "\n",
    "Here, $n_\\mathrm{PBH}$ is the number density of PBHs and $P(t_\\mathrm{merge})$ is the PDF for the merger time of the binaries. Note that not all PBHs will form binaries, so we choose to normalise $P(t_\\mathrm{merge})$ to the number of binaries which form *per PBH*:\n",
    "\n",
    "$$\\int P(t_\\mathrm{merge}) \\,\\mathrm{d}t_\\mathrm{merge} = \\frac{n_\\mathrm{binaries}}{n_\\mathrm{PBH}}\\,.$$\n",
    "\n",
    "From this, the maximum normalisation is obtained when all PBHs form binaries, i.e. $n_\\mathrm{binaries}/n_\\mathrm{PBH} = 1/2$.\n",
    "\n",
    "***Mergers today***: We are interested in 'mergers today', by which we mean mergers roughly in the sensitivity range of LIGO. For some of the heaviest BHs, this could be out to redshift $z = 1$, so by 'today' we mean $z \\in [0,1]$."
   ]
  },
  {
   "cell_type": "code",
   "execution_count": null,
   "metadata": {},
   "outputs": [],
   "source": [
    "#Calculate density of PBH binaries\n",
    "\n",
    "#Some cosmological parameters\n",
    "G_N = 4.302e-3 #(pc/solar mass) (km/s)^2\n",
    "\n",
    "h = 0.678\n",
    "H0 = 100.0*h #(km/s) Mpc^-1\n",
    "Omega_DM = 0.1186/(h**2)\n",
    "    \n",
    "def calc_nPBH(f, M_PBH):\n",
    "\n",
    "    #Fraction of DM made of PBHs\n",
    "    Omega_PBH = f*Omega_DM\n",
    "    rho = 3.0*H0**2/(8.0*np.pi*(G_N*1e-6)) #Solar masses per Mpc^3\n",
    "\n",
    "    n_PBH = (1e3)**3*rho*Omega_PBH/M_PBH #PBH per Gpc^3\n",
    "    \n",
    "    return n_PBH\n"
   ]
  },
  {
   "cell_type": "code",
   "execution_count": null,
   "metadata": {},
   "outputs": [],
   "source": []
  }
 ],
 "metadata": {
  "kernelspec": {
   "display_name": "Python 2",
   "language": "python",
   "name": "python2"
  },
  "language_info": {
   "codemirror_mode": {
    "name": "ipython",
    "version": 2
   },
   "file_extension": ".py",
   "mimetype": "text/x-python",
   "name": "python",
   "nbconvert_exporter": "python",
   "pygments_lexer": "ipython2",
   "version": "2.7.14"
  }
 },
 "nbformat": 4,
 "nbformat_minor": 2
}
